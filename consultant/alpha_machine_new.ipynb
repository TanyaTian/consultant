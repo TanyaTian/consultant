{
 "cells": [
  {
   "cell_type": "code",
   "execution_count": null,
   "id": "06b1f643",
   "metadata": {},
   "outputs": [],
   "source": [
    "from machine_lib_output import *\n",
    "from capm_alpha import *\n",
    "from capm_alpha_opt import *\n",
    "from alpha_template import *"
   ]
  },
  {
   "cell_type": "markdown",
   "id": "7d69848b",
   "metadata": {},
   "source": [
    "第一步：登录"
   ]
  },
  {
   "cell_type": "code",
   "execution_count": null,
   "id": "e3f8c1fd",
   "metadata": {},
   "outputs": [],
   "source": [
    "s = login()"
   ]
  },
  {
   "cell_type": "markdown",
   "id": "45e8017b",
   "metadata": {},
   "source": [
    "第二步：获取字段"
   ]
  },
  {
   "cell_type": "code",
   "execution_count": null,
   "id": "99c3ff14",
   "metadata": {},
   "outputs": [],
   "source": [
    "region = \"GLB\"\n",
    "id_list1 = [\n",
    "    \"fnd17_aprice2bk\",\n",
    "    \"ts_backfill(fnd17_aprice2bk == 0 ? NaN : fnd17_aprice2bk, 120)\",\n",
    "    \"group_backfill(fnd17_aprice2bk == 0 ? NaN : fnd17_aprice2bk, sector, 120, std=4.0)\",\n",
    "    \"fnd17_apr2tanbk\",\n",
    "    \"ts_backfill(fnd17_apr2tanbk == 0 ? NaN : fnd17_apr2tanbk, 120)\",\n",
    "    \"group_backfill(fnd17_apr2tanbk == 0 ? NaN : fnd17_apr2tanbk , sector, 120, std=4.0)\",\n",
    "    \"fnd17_mktcap\",\n",
    "    \"ts_backfill(fnd17_mktcap == 0 ? NaN : fnd17_mktcap, 120)\",\n",
    "    \"group_backfill(fnd17_mktcap == 0 ? NaN : fnd17_mktcap, sector, 120, std=4.0)\",\n",
    "    \"fnd17_aprice2bk / fnd17_price2bk\",\n",
    "    \"ts_backfill(fnd17_aprice2bk == 0 ? NaN : fnd17_aprice2bk, 120) / ts_backfill(fnd17_price2bk == 0 ? NaN : fnd17_price2bk, 120)\",\n",
    "    \"group_backfill(fnd17_aprice2bk == 0 ? NaN : fnd17_aprice2bk , sector, 120, std=4.0) / group_backfill(fnd17_price2bk == 0 ? NaN : fnd17_price2bk , sector, 120, std=4.0)\",\n",
    "    \"fnd17_aprice2bk - fnd17_price2bk\",\n",
    "    \"ts_backfill(fnd17_aprice2bk == 0 ? NaN : fnd17_aprice2bk, 120) - ts_backfill(fnd17_price2bk == 0 ? NaN : fnd17_price2bk, 120)\",\n",
    "    \"group_backfill(fnd17_aprice2bk == 0 ? NaN : fnd17_aprice2bk , sector, 120, std=4.0) - group_backfill(fnd17_price2bk == 0 ? NaN : fnd17_price2bk , sector, 120, std=4.0)\",\n",
    "    \"fnd17_aprice2bk - fnd17_price2bk2\",\n",
    "    \"ts_backfill(fnd17_aprice2bk == 0 ? NaN : fnd17_aprice2bk, 120) - ts_backfill(fnd17_price2bk2 == 0 ? NaN : fnd17_price2bk2, 120)\",\n",
    "    \"group_backfill(fnd17_aprice2bk == 0 ? NaN : fnd17_aprice2bk , sector, 120, std=4.0) - group_backfill(fnd17_price2bk2 == 0 ? NaN : fnd17_price2bk2 , sector, 120, std=4.0)\",\n",
    "    \"fnd17_apr2tanbk / fnd17_pr2tanbk\",\n",
    "    \"ts_backfill(fnd17_apr2tanbk == 0 ? NaN : fnd17_apr2tanbk, 120) / ts_backfill(fnd17_pr2tanbk == 0 ? NaN : fnd17_pr2tanbk, 120)\",\n",
    "    \"group_backfill(fnd17_apr2tanbk == 0 ? NaN : fnd17_apr2tanbk , sector, 120, std=4.0) / group_backfill(fnd17_pr2tanbk == 0 ? NaN : fnd17_pr2tanbk , sector, 120, std=4.0)\",\n",
    "    \"fnd17_apr2tanbk - fnd17_pr2tanbk\",\n",
    "    \"ts_backfill(fnd17_apr2tanbk == 0 ? NaN : fnd17_apr2tanbk, 120) - ts_backfill(fnd17_pr2tanbk == 0 ? NaN : fnd17_pr2tanbk, 120)\",\n",
    "    \"group_backfill(fnd17_apr2tanbk == 0 ? NaN : fnd17_apr2tanbk , sector, 120, std=4.0) - group_backfill(fnd17_pr2tanbk == 0 ? NaN : fnd17_pr2tanbk , sector, 120, std=4.0)\",\n",
    "    \"fnd17_mktcap / fnd17_aprice2bk\",\n",
    "    \"ts_backfill(fnd17_mktcap == 0 ? NaN : fnd17_mktcap, 120) / ts_backfill(fnd17_aprice2bk == 0 ? NaN : fnd17_aprice2bk, 120)\",\n",
    "    \"group_backfill(fnd17_mktcap == 0 ? NaN : fnd17_mktcap , sector, 120, std=4.0) / group_backfill(fnd17_aprice2bk == 0 ? NaN : fnd17_aprice2bk , sector, 120, std=4.0)\",\n",
    "    \"fnd17_mktcap / fnd17_apr2tanbk\",\n",
    "    \"ts_backfill(fnd17_mktcap == 0 ? NaN : fnd17_mktcap, 120) / ts_backfill(fnd17_apr2tanbk == 0 ? NaN : fnd17_apr2tanbk, 120)\",\n",
    "    \"group_backfill(fnd17_mktcap == 0 ? NaN : fnd17_mktcap , sector, 120, std=4.0) / group_backfill(fnd17_apr2tanbk == 0 ? NaN : fnd17_apr2tanbk , sector, 120, std=4.0)\",\n",
    "    \"fnd17_aprice2bk / fnd17_apr2tanbk\",\n",
    "    \"ts_backfill(fnd17_aprice2bk == 0 ? NaN : fnd17_aprice2bk, 120) / ts_backfill(fnd17_apr2tanbk == 0 ? NaN : fnd17_apr2tanbk, 120)\",\n",
    "    \"group_backfill(fnd17_aprice2bk == 0 ? NaN : fnd17_aprice2bk , sector, 120, std=4.0) / group_backfill(fnd17_apr2tanbk == 0 ? NaN : fnd17_apr2tanbk , sector, 120, std=4.0)\",\n",
    "    \"fnd17_aprice2bk - fnd17_apr2tanbk\",\n",
    "    \"ts_backfill(fnd17_aprice2bk == 0 ? NaN : fnd17_aprice2bk, 120) - ts_backfill(fnd17_apr2tanbk == 0 ? NaN : fnd17_apr2tanbk, 120)\",\n",
    "    \"group_backfill(fnd17_aprice2bk == 0 ? NaN : fnd17_aprice2bk , sector, 120, std=4.0) - group_backfill(fnd17_apr2tanbk == 0 ? NaN : fnd17_apr2tanbk , sector, 120, std=4.0)\",\n",
    "    \"fnd17_price2bk - fnd17_price2bk2\",\n",
    "    \"ts_backfill(fnd17_price2bk == 0 ? NaN : fnd17_price2bk, 120) - ts_backfill(fnd17_price2bk2 == 0 ? NaN : fnd17_price2bk2, 120)\",\n",
    "    \"group_backfill(fnd17_price2bk == 0 ? NaN : fnd17_price2bk , sector, 120, std=4.0) - group_backfill(fnd17_price2bk2 == 0 ? NaN : fnd17_price2bk2 , sector, 120, std=4.0)\",\n",
    "    \"(fnd17_price2bk - fnd17_price2bk2) / fnd17_price2bk2\",\n",
    "    \"(ts_backfill(fnd17_price2bk == 0 ? NaN : fnd17_price2bk, 120) - ts_backfill(fnd17_price2bk2 == 0 ? NaN : fnd17_price2bk2, 120)) / ts_backfill(fnd17_price2bk2 == 0 ? NaN : fnd17_price2bk2, 120)\",\n",
    "    \"(group_backfill(fnd17_price2bk == 0 ? NaN : fnd17_price2bk , sector, 120, std=4.0) - group_backfill(fnd17_price2bk2 == 0 ? NaN : fnd17_price2bk2 , sector, 120, std=4.0)) / group_backfill(fnd17_price2bk2 == 0 ? NaN : fnd17_price2bk2 , sector, 120, std=4.0)\",\n",
    "    \"fnd17_aprice2bk * log(fnd17_mktcap)\",\n",
    "    \"ts_backfill(fnd17_aprice2bk == 0 ? NaN : fnd17_aprice2bk, 120) * log(1 + ts_backfill(fnd17_mktcap == 0 ? NaN : fnd17_mktcap, 120))\",\n",
    "    \"group_backfill(fnd17_aprice2bk == 0 ? NaN : fnd17_aprice2bk , sector, 120, std=4.0) * log(1 + group_backfill(fnd17_mktcap == 0 ? NaN : fnd17_mktcap , sector, 120, std=4.0))\",\n",
    "    \"group_zscore(fnd17_aprice2bk, sector) / log(fnd17_mktcap)\",\n",
    "    \"group_zscore(ts_backfill(fnd17_aprice2bk == 0 ? NaN : fnd17_aprice2bk, 120), sector) / log(1 + ts_backfill(fnd17_mktcap == 0 ? NaN : fnd17_mktcap, 120))\",\n",
    "    \"group_zscore(group_backfill(fnd17_aprice2bk == 0 ? NaN : fnd17_aprice2bk , sector, 120, std=4.0), sector) / log(1 + group_backfill(fnd17_mktcap == 0 ? NaN : fnd17_mktcap , sector, 120, std=4.0))\",\n",
    "    \"1 / fnd17_aprice2bk\",\n",
    "    \"1 / ts_backfill(fnd17_aprice2bk == 0 ? NaN : fnd17_aprice2bk, 120)\",\n",
    "    \"1 / group_backfill(fnd17_aprice2bk == 0 ? NaN : fnd17_aprice2bk , sector, 120, std=4.0)\",\n",
    "    \"(rank(fnd17_aprice2bk) + rank(fnd17_pr2tanbk)) / 2\",\n",
    "    \"(rank(ts_backfill(fnd17_aprice2bk == 0 ? NaN : fnd17_aprice2bk, 120)) + rank(ts_backfill(fnd17_pr2tanbk == 0 ? NaN : fnd17_pr2tanbk, 120))) / 2\",\n",
    "    \"(rank(group_backfill(fnd17_aprice2bk == 0 ? NaN : fnd17_aprice2bk , sector, 120, std=4.0)) + rank(group_backfill(fnd17_pr2tanbk == 0 ? NaN : fnd17_pr2tanbk , sector, 120, std=4.0))) / 2\"\n",
    "]\n",
    "\n",
    "id_list = [\n",
    "    \"fnd17_aprice2bk\",\n",
    "    \"fnd17_apr2tanbk\",\n",
    "    \"fnd17_mktcap\",\n",
    "    \"fnd17_aprice2bk / fnd17_price2bk\",\n",
    "    \"fnd17_aprice2bk - fnd17_price2bk\",\n",
    "    \"fnd17_aprice2bk - fnd17_price2bk2\",\n",
    "    \"fnd17_apr2tanbk / fnd17_pr2tanbk\",\n",
    "    \"fnd17_apr2tanbk - fnd17_pr2tanbk\",\n",
    "    \"fnd17_mktcap / fnd17_aprice2bk\",\n",
    "    \"fnd17_mktcap / fnd17_apr2tanbk\",\n",
    "    \"fnd17_aprice2bk / fnd17_apr2tanbk\",\n",
    "    \"fnd17_aprice2bk - fnd17_apr2tanbk\",\n",
    "    \"fnd17_price2bk - fnd17_price2bk2\",\n",
    "    \"(fnd17_price2bk - fnd17_price2bk2) / fnd17_price2bk2\",\n",
    "    \"fnd17_aprice2bk * log(fnd17_mktcap)\",\n",
    "    \"group_zscore(fnd17_aprice2bk, sector) / log(fnd17_mktcap)\",\n",
    "    \"1 / fnd17_aprice2bk\",\n",
    "    \"(rank(fnd17_aprice2bk) + rank(fnd17_pr2tanbk)) / 2\"\n",
    "    ]"
   ]
  },
  {
   "cell_type": "code",
   "execution_count": null,
   "id": "9942bd89",
   "metadata": {},
   "outputs": [],
   "source": [
    "region = \"GLB\"\n",
    "list = get_ids_from_csv_directory_with_coverage(f'data/{region}/MINVOL1M', 0.0, \"**_group.csv\")\n",
    "#id_list = [x for x in list if \"chg_pct\"  in x.lower()]\n",
    "id_list = list\n",
    "print(len(id_list))\n",
    "print(id_list[:10])"
   ]
  },
  {
   "cell_type": "markdown",
   "id": "a9a6b194",
   "metadata": {},
   "source": [
    "第三步：数据预处理"
   ]
  },
  {
   "cell_type": "markdown",
   "id": "64fd5b3e",
   "metadata": {},
   "source": [
    "matrix预处理"
   ]
  },
  {
   "cell_type": "code",
   "execution_count": null,
   "id": "c6862f30",
   "metadata": {},
   "outputs": [],
   "source": [
    "pc_df = [f\"{field}\" for field in id_list]"
   ]
  },
  {
   "cell_type": "markdown",
   "id": "68b0a7c4",
   "metadata": {},
   "source": [
    "group_backfill"
   ]
  },
  {
   "cell_type": "code",
   "execution_count": null,
   "id": "6cbad863",
   "metadata": {},
   "outputs": [],
   "source": [
    "day = 120\n",
    "group = \"sector\"\n",
    "pc_df = [f\"group_backfill({field}, {group}, {day}, std=4.0)\" for field in id_list]\n",
    "print(len(pc_df))\n",
    "print(pc_df[:10])"
   ]
  },
  {
   "cell_type": "markdown",
   "id": "b55a3d15",
   "metadata": {},
   "source": [
    "ts_backfill"
   ]
  },
  {
   "cell_type": "code",
   "execution_count": null,
   "id": "6effa51b",
   "metadata": {},
   "outputs": [],
   "source": [
    "day = 120\n",
    "value = 0\n",
    "pc_df = [f\"ts_backfill({field} == {value} ? NaN : {field}, {day})\" for field in id_list]\n",
    "print(len(pc_df))\n",
    "print(pc_df[:10])"
   ]
  },
  {
   "cell_type": "code",
   "execution_count": null,
   "id": "7ec4eeb0",
   "metadata": {},
   "outputs": [],
   "source": [
    "pc_df = [\"winsorize(ts_backfill(%s, 120), std=4)\"%field for field in id_list]\n",
    "print(len(pc_df))\n",
    "print(pc_df[:10])"
   ]
  },
  {
   "cell_type": "code",
   "execution_count": null,
   "id": "804c061d",
   "metadata": {},
   "outputs": [],
   "source": [
    "pc_df = [\"winsorize( %s , std=4)\"%field for field in id_list]\n",
    "print(len(pc_df))\n",
    "print(pc_df[:10])"
   ]
  },
  {
   "cell_type": "code",
   "execution_count": null,
   "id": "a1c1f8a2",
   "metadata": {},
   "outputs": [],
   "source": [
    "pc_df = [\"log(1 +  %s)\"%field for field in id_list]\n",
    "print(len(pc_df))\n",
    "print(pc_df[:10])"
   ]
  },
  {
   "cell_type": "markdown",
   "id": "ee46a8ba",
   "metadata": {},
   "source": [
    "vector预处理"
   ]
  },
  {
   "cell_type": "code",
   "execution_count": null,
   "id": "11e232cb",
   "metadata": {},
   "outputs": [],
   "source": [
    "\n",
    "vec_pc_df = get_vec_fields(id_list)\n",
    "print(len(vec_pc_df))\n",
    "print(vec_pc_df[:10])\n",
    "#pc_df = [f\"ts_backfill({field}, 120)\" for field in vec_pc_df]\n",
    "pc_df = [f\"winsorize(ts_backfill({field}, 120), std=4)\" for field in vec_pc_df]\n",
    "print(len(pc_df))\n",
    "print(pc_df[:10])"
   ]
  },
  {
   "cell_type": "markdown",
   "id": "0b7da45b",
   "metadata": {},
   "source": [
    "group预处理"
   ]
  },
  {
   "cell_type": "code",
   "execution_count": null,
   "id": "65746888",
   "metadata": {},
   "outputs": [],
   "source": [
    "pc_df = [f\"group_rank(close, densify({group}))\" for group in id_list]\n",
    "print(len(pc_df))\n",
    "print(pc_df[:10])"
   ]
  },
  {
   "cell_type": "markdown",
   "id": "9cf0062e",
   "metadata": {},
   "source": [
    "第四步：生成atom表达式"
   ]
  },
  {
   "cell_type": "code",
   "execution_count": null,
   "id": "b56e1ba9",
   "metadata": {},
   "outputs": [],
   "source": [
    "#数据处理尝试\n",
    "std_exp = []\n",
    "for datafield in pc_df:\n",
    "    std_exp.extend(generate_std_expressions(datafield, region))\n",
    "print(len(std_exp))\n",
    "\n",
    "for i in range(50):\n",
    "    print(std_exp[i])"
   ]
  },
  {
   "cell_type": "code",
   "execution_count": null,
   "id": "c42d262b",
   "metadata": {},
   "outputs": [],
   "source": [
    "#x\n",
    "#x - group_mean(x, 1, group)\n",
    "#x / group_mean(x, 1, group)\n",
    "#ts_corr(x, group_mean(x, 1, group1), d)\n",
    "#ts_regression(x, group_mean(x, 1, group1), d, rettype = 0)\n",
    "#group_rank(x, group1) - group_rank(x, group2)\n",
    "#group_rank(x, group1) / group_rank(x, group2)\n",
    "#ts_corr(group_rank(x, group1), group_rank(x, group2), d)\n",
    "#ts_regression(group_rank(x, group1), group_rank(x, group2), d, rettype = 0)\n",
    "#group_rank(x, group1) - group_rank(group_mean(x, group1), 1, group2)\n",
    "#group_rank(x, group1) / group_rank(group_mean(x, group1), 1, group2)\n",
    "#group:country, industry, subindustry, sector, exchange, market, group_cartesian_product(country, {group})\n",
    "all_atom_expressions = []\n",
    "days = [120, 252]\n",
    "    \n",
    "for datafield in pc_df:\n",
    "    for day in days:\n",
    "        # 生成当前datafield和day的组合表达式\n",
    "        expressions = generate_atom_expressions(datafield, region, day)\n",
    "        # 添加到总列表\n",
    "        all_atom_expressions.extend(expressions)\n",
    "print(len(all_atom_expressions))\n",
    "\n",
    "speed_days = [20, 20]\n",
    "print(\"生成速度和加速度表达式\")\n",
    "acceleration_expressions = generate_velocity_acceleration(all_atom_expressions, speed_days)\n",
    "\n",
    "print(len(acceleration_expressions))\n",
    "\n",
    "for i in range(50):\n",
    "    print(all_atom_expressions[i])\n",
    "\n",
    "for i in range(50):\n",
    "    print(acceleration_expressions[i])"
   ]
  },
  {
   "cell_type": "markdown",
   "id": "f9df6589",
   "metadata": {},
   "source": [
    "第五步：生成一阶表达式"
   ]
  },
  {
   "cell_type": "code",
   "execution_count": null,
   "id": "5f4ee798",
   "metadata": {},
   "outputs": [],
   "source": [
    "#一阶表达式运算符\n",
    "# \"ts_rank\", \"ts_zscore\", \"ts_delta\",  \"ts_sum\", \"ts_delay\", \"ts_av_diff\", \"ts_ir\"\n",
    "# \"ts_std_dev\", \"ts_mean\",  \"ts_arg_min\", \"ts_arg_max\",\"ts_scale\", \"ts_quantile\"\n",
    "# \"ts_kurtosis\", \"ts_max_diff\", \"ts_product\", \"ts_returns\"\n",
    "print(\"生成一阶表达式\")\n",
    "first_order_expressions = first_order_factory_with_day(all_atom_expressions, ts_ops_2, days)\n",
    "\n",
    "#速度与加速度模版\n",
    "#\"ts_delta(ts_delta(x, d) d)\", \"ts_delta(x, d)\"\n",
    "\n",
    "\n",
    "print(first_order_expressions[:10])\n",
    "#print(acceleration_expressions[:10])\n",
    "print(len(first_order_expressions))\n",
    "#print(len(acceleration_expressions))"
   ]
  },
  {
   "cell_type": "markdown",
   "id": "5bc7d204",
   "metadata": {},
   "source": [
    "其他：使用文件导入alpha"
   ]
  },
  {
   "cell_type": "code",
   "execution_count": null,
   "id": "e68c002f",
   "metadata": {},
   "outputs": [],
   "source": [
    "alphas = read_txt_to_list('data_set/asi_anl69_chg_pct_ts.txt')\n",
    "#alphas = parse_alpha_blocks('data_set/asi_anl69_chg_pct_group.txt', 2)\n",
    "print(len(alphas))\n",
    "print(alphas[:10])"
   ]
  },
  {
   "cell_type": "markdown",
   "id": "6ac0fd4c",
   "metadata": {},
   "source": [
    "第六步：添加decay"
   ]
  },
  {
   "cell_type": "code",
   "execution_count": null,
   "id": "dcee614f",
   "metadata": {},
   "outputs": [],
   "source": [
    "# 赋予alpha表达式一个初始decay\n",
    "init_decay = 0\n",
    "fo_alpha_list = []\n",
    "\n",
    "for alpha in std_exp:\n",
    "    fo_alpha_list.append((alpha, init_decay))\n",
    "\n",
    "# 随机采样快速评估一个数据集的潜力\n",
    "random.shuffle(fo_alpha_list)\n",
    "\n",
    "print(\"数量: %s\"%len(fo_alpha_list))\n",
    "print(fo_alpha_list[:5])"
   ]
  },
  {
   "cell_type": "markdown",
   "id": "5a98cd91",
   "metadata": {},
   "source": [
    "第七步：写入CSV文件保存"
   ]
  },
  {
   "cell_type": "code",
   "execution_count": null,
   "id": "9c1c1657",
   "metadata": {},
   "outputs": [],
   "source": [
    "generate_pending_simulation_data(fo_alpha_list,\"NONE\", \"GLB\", \"TOPDIV3000\", \"OFF\", True, \"append\", \"alpha_glb_fnd17_price.csv\")\n",
    "#generate_pending_simulation_data(fo_alpha_list[100000:] ,\"CROWDING\", \"GLB\", \"TOPDIV3000\", \"OFF\", \"append\", \"alpha_glb_fnd17_atom_remain.csv\")\n",
    "#generate_pending_simulation_data(fo_alpha_list[:100000],\"CROWDING\", \"GLB\", \"TOPDIV3000\",  \"OFF\", \"overwrite\", \"alpha_glb_fnd17_ts.csv\")\n",
    "#generate_pending_simulation_data(fo_alpha_list[100000: ],\"CROWDING\", \"GLB\", \"TOPDIV3000\", \"OFF\", \"overwrite\", \"alpha_glb_fnd17_ts_remain.csv\")"
   ]
  },
  {
   "cell_type": "markdown",
   "id": "022dc86c",
   "metadata": {},
   "source": [
    "第八步：筛选反转信号"
   ]
  },
  {
   "cell_type": "code",
   "execution_count": null,
   "id": "63131ea1",
   "metadata": {},
   "outputs": [],
   "source": [
    "def rerun_alpha_csv(date:str):\n",
    "    fo_tracker = get_alphas_from_csv(f\"output/simulated_alphas_GLB.csv.{date}\", 1.0, 0.3, single_data_set_filter=True)\n",
    "    print(len(fo_tracker))\n",
    "    filtered_fo_tracker = [rec for rec in fo_tracker if rec[2] < 0]\n",
    "    fo_layer = digest(filtered_fo_tracker)\n",
    "    # 剪枝后数量\n",
    "    print(len(fo_layer))\n",
    "    print(fo_layer[:3])\n",
    "\n",
    "    generate_pending_simulation_data(fo_layer ,\"CROWDING\", \"USA\", \"TOP3000\", \"OFF\", \"append\", 'alpha_glb_minus_0813.csv')\n",
    "\n",
    "dates = [\"2025-08-11\", \"2025-08-12\", \"2025-08-13\"]\n",
    "for date in dates:\n",
    "    rerun_alpha_csv(date)"
   ]
  },
  {
   "cell_type": "code",
   "execution_count": null,
   "id": "8972cf7e",
   "metadata": {},
   "outputs": [],
   "source": []
  }
 ],
 "metadata": {
  "kernelspec": {
   "display_name": "py311",
   "language": "python",
   "name": "python3"
  },
  "language_info": {
   "codemirror_mode": {
    "name": "ipython",
    "version": 3
   },
   "file_extension": ".py",
   "mimetype": "text/x-python",
   "name": "python",
   "nbconvert_exporter": "python",
   "pygments_lexer": "ipython3",
   "version": "3.11.11"
  }
 },
 "nbformat": 4,
 "nbformat_minor": 5
}
